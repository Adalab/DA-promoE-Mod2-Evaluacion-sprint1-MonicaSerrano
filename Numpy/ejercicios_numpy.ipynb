{
 "cells": [
  {
   "cell_type": "markdown",
   "metadata": {},
   "source": [
    "## Evaluación de NumPy Mónica Serrano"
   ]
  },
  {
   "cell_type": "markdown",
   "metadata": {},
   "source": [
    "1. Importa la librería de NumPy."
   ]
  },
  {
   "cell_type": "code",
   "execution_count": 146,
   "metadata": {},
   "outputs": [],
   "source": [
    "import numpy as np"
   ]
  },
  {
   "cell_type": "markdown",
   "metadata": {},
   "source": [
    "2. Crea un array de 1 dimension y 10 elementos."
   ]
  },
  {
   "cell_type": "markdown",
   "metadata": {},
   "source": [
    "Como no especifica si la array tiene que ser de numeros enteros o decimales, vamos a utilizar diferentes métodos."
   ]
  },
  {
   "cell_type": "code",
   "execution_count": 147,
   "metadata": {},
   "outputs": [
    {
     "data": {
      "text/plain": [
       "array([95, 70, 84, 80, 67, 77, 67, 68, 96, 54])"
      ]
     },
     "execution_count": 147,
     "metadata": {},
     "output_type": "execute_result"
    }
   ],
   "source": [
    "# Método 1\n",
    "array1_1 = np.random.randint (0,100,(10))\n",
    "array1_1"
   ]
  },
  {
   "cell_type": "code",
   "execution_count": 148,
   "metadata": {},
   "outputs": [
    {
     "data": {
      "text/plain": [
       "array([0.3, 0.1, 0.2, 0.2, 0.2, 0.3, 0.1, 0.6, 1. , 0.7])"
      ]
     },
     "execution_count": 148,
     "metadata": {},
     "output_type": "execute_result"
    }
   ],
   "source": [
    "# Método 2\n",
    "array1_2 = np.random.random_sample(10).round(1) # También se podría hacer np.round(np.random.random_sample(10),1)\n",
    "array1_2"
   ]
  },
  {
   "cell_type": "markdown",
   "metadata": {},
   "source": [
    "3. Reemplaza todos los números impares por el valor \"impar\" y los pares por \"par\". Para hacer esto os tendréis que crear un array nuevo donde vayáis añadiendo los valores nuevos"
   ]
  },
  {
   "cell_type": "markdown",
   "metadata": {},
   "source": [
    "Primero vamos a utilizar un array que tenga números enteros. Lo recordamos y vemos el resultado final:"
   ]
  },
  {
   "cell_type": "code",
   "execution_count": 149,
   "metadata": {},
   "outputs": [
    {
     "data": {
      "text/plain": [
       "array([95, 70, 84, 80, 67, 77, 67, 68, 96, 54])"
      ]
     },
     "execution_count": 149,
     "metadata": {},
     "output_type": "execute_result"
    }
   ],
   "source": [
    "array1_1"
   ]
  },
  {
   "cell_type": "code",
   "execution_count": 150,
   "metadata": {},
   "outputs": [
    {
     "data": {
      "text/plain": [
       "array(['impar', 'par', 'par', 'par', 'impar', 'impar', 'impar', 'par',\n",
       "       'par', 'par'], dtype='<U5')"
      ]
     },
     "execution_count": 150,
     "metadata": {},
     "output_type": "execute_result"
    }
   ],
   "source": [
    "array_par_impar= np.where(array1_1 % 2 == 0 , 'par', 'impar')\n",
    "array_par_impar"
   ]
  },
  {
   "cell_type": "code",
   "execution_count": 151,
   "metadata": {},
   "outputs": [
    {
     "data": {
      "text/plain": [
       "array([95, 70, 84, 80, 67, 77, 67, 68, 96, 54])"
      ]
     },
     "execution_count": 151,
     "metadata": {},
     "output_type": "execute_result"
    }
   ],
   "source": [
    "# El array original se mantiene intacto.\n",
    "array1_1"
   ]
  },
  {
   "cell_type": "markdown",
   "metadata": {},
   "source": [
    "Ahora lo hacemos para una array que tenga decimales, lo cual varía un poco el código."
   ]
  },
  {
   "cell_type": "code",
   "execution_count": 152,
   "metadata": {},
   "outputs": [
    {
     "data": {
      "text/plain": [
       "array([0.3, 0.1, 0.2, 0.2, 0.2, 0.3, 0.1, 0.6, 1. , 0.7])"
      ]
     },
     "execution_count": 152,
     "metadata": {},
     "output_type": "execute_result"
    }
   ],
   "source": [
    "array1_2"
   ]
  },
  {
   "cell_type": "code",
   "execution_count": 153,
   "metadata": {},
   "outputs": [
    {
     "data": {
      "text/plain": [
       "array(['impar', 'impar', 'par', 'par', 'par', 'impar', 'impar', 'par',\n",
       "       'par', 'impar'], dtype='<U5')"
      ]
     },
     "execution_count": 153,
     "metadata": {},
     "output_type": "execute_result"
    }
   ],
   "source": [
    "array_final = array1_2 * 10 # Lo multiplicamos por 10 para poder hacer el cálculo correctamente.\n",
    "array_final = np.where(array_final % 2 == 0 , 'par', 'impar')\n",
    "array_final"
   ]
  },
  {
   "cell_type": "markdown",
   "metadata": {},
   "source": [
    "También se podría hacer un bucle que pase por cada elemento y añada la palabra a un array vacío."
   ]
  },
  {
   "cell_type": "code",
   "execution_count": 154,
   "metadata": {},
   "outputs": [],
   "source": [
    "array_vacio = np.empty(10,dtype=object)\n",
    "for indice in range(array1_1.shape[0]):\n",
    "    if array1_1[indice] % 2 == 0:\n",
    "        array_vacio[indice] = 'par'\n",
    "    else:\n",
    "        array_vacio[indice] = 'impar'"
   ]
  },
  {
   "cell_type": "code",
   "execution_count": 155,
   "metadata": {},
   "outputs": [
    {
     "data": {
      "text/plain": [
       "array(['impar', 'par', 'par', 'par', 'impar', 'impar', 'impar', 'par',\n",
       "       'par', 'par'], dtype=object)"
      ]
     },
     "execution_count": 155,
     "metadata": {},
     "output_type": "execute_result"
    }
   ],
   "source": [
    "array_vacio"
   ]
  },
  {
   "cell_type": "markdown",
   "metadata": {},
   "source": [
    "4. Cambiad la forma del array del ejercicio 3 a un array de 2 filas y 5 columnas."
   ]
  },
  {
   "cell_type": "code",
   "execution_count": 156,
   "metadata": {},
   "outputs": [
    {
     "data": {
      "text/plain": [
       "array([['impar', 'par', 'par', 'par', 'impar'],\n",
       "       ['impar', 'impar', 'par', 'par', 'par']], dtype='<U5')"
      ]
     },
     "execution_count": 156,
     "metadata": {},
     "output_type": "execute_result"
    }
   ],
   "source": [
    "array_par_impar = array_par_impar.reshape(2,5) # El primer numero son las filas y el segundo las columnas.\n",
    "array_par_impar\n"
   ]
  },
  {
   "cell_type": "markdown",
   "metadata": {},
   "source": [
    "5. Extrae los elementos comunes de los siguientes arrays"
   ]
  },
  {
   "cell_type": "code",
   "execution_count": 157,
   "metadata": {},
   "outputs": [],
   "source": [
    "array1 = np.array([1,2,3,2,3,4,3,4,5,6])\n",
    "array2 = np.array([7,2,10,2,7,4,9,4,9,8])"
   ]
  },
  {
   "cell_type": "code",
   "execution_count": 158,
   "metadata": {},
   "outputs": [
    {
     "data": {
      "text/plain": [
       "(array([2, 4]), array([1, 5]), array([1, 5]))"
      ]
     },
     "execution_count": 158,
     "metadata": {},
     "output_type": "execute_result"
    }
   ],
   "source": [
    "elementos_comunes = np.intersect1d(array1,array2)\n",
    "# Podemos ponerle un return indices, donde también extraerá sus indices en el array1 y en el array2.\n",
    "elementos_comunes = np.intersect1d(array1,array2,return_indices=True)\n",
    "elementos_comunes"
   ]
  },
  {
   "cell_type": "markdown",
   "metadata": {},
   "source": [
    "6. Extraed los elementos que están en el array1 pero no en el array2."
   ]
  },
  {
   "cell_type": "code",
   "execution_count": 159,
   "metadata": {},
   "outputs": [
    {
     "data": {
      "text/plain": [
       "array([1, 3, 5, 6])"
      ]
     },
     "execution_count": 159,
     "metadata": {},
     "output_type": "execute_result"
    }
   ],
   "source": [
    "elementos_diferentes = np.setdiff1d(array1,array2)\n",
    "elementos_diferentes"
   ]
  },
  {
   "cell_type": "markdown",
   "metadata": {},
   "source": [
    "7. Extraed las posiciones donde tengamos elementos que sean iguales."
   ]
  },
  {
   "cell_type": "markdown",
   "metadata": {},
   "source": [
    "Recordarmos los arrays:"
   ]
  },
  {
   "cell_type": "code",
   "execution_count": 160,
   "metadata": {},
   "outputs": [
    {
     "name": "stdout",
     "output_type": "stream",
     "text": [
      "El array1 es [1 2 3 2 3 4 3 4 5 6]\n",
      "El array2 es [ 7  2 10  2  7  4  9  4  9  8]\n"
     ]
    }
   ],
   "source": [
    "print(f'El array1 es {array1}')\n",
    "print(f'El array2 es {array2}')"
   ]
  },
  {
   "cell_type": "code",
   "execution_count": 161,
   "metadata": {},
   "outputs": [
    {
     "data": {
      "text/plain": [
       "array([1, 3, 5, 7])"
      ]
     },
     "execution_count": 161,
     "metadata": {},
     "output_type": "execute_result"
    }
   ],
   "source": [
    "posiciones = np.where(array1 == array2)[0]\n",
    "posiciones"
   ]
  },
  {
   "cell_type": "code",
   "execution_count": 162,
   "metadata": {},
   "outputs": [
    {
     "name": "stdout",
     "output_type": "stream",
     "text": [
      "El número que se encuentra en posición 1 es 2\n",
      "El número que se encuentra en posición 3 es 2\n",
      "El número que se encuentra en posición 5 es 4\n",
      "El número que se encuentra en posición 7 es 4\n"
     ]
    }
   ],
   "source": [
    "# Podemos saber los numeros que son, interando por el resultado anterior y sacando los numeros\n",
    "for i in posiciones:\n",
    "    print(f'El número que se encuentra en posición {i} es {array1[i]}')"
   ]
  },
  {
   "cell_type": "markdown",
   "metadata": {},
   "source": [
    "8. Cread un array de 3 filas y 5 columnas, con números enteros del 0 al 50. Una vez creado, extrae los valores que sean menores que 10 y mayores que 40."
   ]
  },
  {
   "cell_type": "code",
   "execution_count": 163,
   "metadata": {},
   "outputs": [
    {
     "data": {
      "text/plain": [
       "array([[24, 11, 27, 22, 26],\n",
       "       [16, 25, 29,  7, 14],\n",
       "       [33, 14, 46, 29,  5]])"
      ]
     },
     "execution_count": 163,
     "metadata": {},
     "output_type": "execute_result"
    }
   ],
   "source": [
    "array3 = np.random.randint(0,50,(3,5))\n",
    "array3"
   ]
  },
  {
   "cell_type": "code",
   "execution_count": 164,
   "metadata": {},
   "outputs": [],
   "source": [
    "cond1 = array3 < 10\n",
    "cond2 = array3 > 40"
   ]
  },
  {
   "cell_type": "code",
   "execution_count": 165,
   "metadata": {},
   "outputs": [
    {
     "data": {
      "text/plain": [
       "array([], dtype=int64)"
      ]
     },
     "execution_count": 165,
     "metadata": {},
     "output_type": "execute_result"
    }
   ],
   "source": [
    "# Como nos dicen los valores que sea menor que 10 y mayor de 40, ponemos &.\n",
    "resultado = array3[cond1 & cond2]\n",
    "resultado"
   ]
  },
  {
   "cell_type": "markdown",
   "metadata": {},
   "source": [
    "Vemos que no nos sale ningún valor, esto tiene sentido porque realmente no hay ningun mayor 40 y menor de 10. Si quisieramos que nos saliesen valores, tendríamos que usar el comando | (or), para que nos de los numeros menores de 10 o mayores de 40."
   ]
  },
  {
   "cell_type": "code",
   "execution_count": 166,
   "metadata": {},
   "outputs": [
    {
     "data": {
      "text/plain": [
       "array([ 7, 46,  5])"
      ]
     },
     "execution_count": 166,
     "metadata": {},
     "output_type": "execute_result"
    }
   ],
   "source": [
    "resultado = array3[cond1 | cond2]\n",
    "resultado"
   ]
  },
  {
   "cell_type": "markdown",
   "metadata": {},
   "source": [
    "9. Cread un array de 5x3 con números decimales aleatorios entre el 5 y el 10."
   ]
  },
  {
   "cell_type": "code",
   "execution_count": 167,
   "metadata": {},
   "outputs": [
    {
     "data": {
      "text/plain": [
       "array([[7.7 , 9.44, 7.16],\n",
       "       [9.39, 9.18, 8.62],\n",
       "       [6.18, 8.72, 9.95],\n",
       "       [8.07, 9.38, 7.18],\n",
       "       [7.05, 7.64, 9.13]])"
      ]
     },
     "execution_count": 167,
     "metadata": {},
     "output_type": "execute_result"
    }
   ],
   "source": [
    "array4 = np.random.uniform(5,10,(5,3)).round(2)\n",
    "array4"
   ]
  },
  {
   "cell_type": "markdown",
   "metadata": {},
   "source": [
    "10. Crea un array de tres dimensiones de 2x4x7 con números entre el 1 y el 20\n",
    "    * Transponed el array para que tenga 4 matrices, 7 filas y 2 columnas"
   ]
  },
  {
   "cell_type": "code",
   "execution_count": 168,
   "metadata": {},
   "outputs": [
    {
     "name": "stdout",
     "output_type": "stream",
     "text": [
      "[[[13  3  4 18 16 19 16]\n",
      "  [ 5  2  9  7  5  1  8]\n",
      "  [11  9 14  5 16 12  2]\n",
      "  [ 4  7 19  5  7 18  6]]\n",
      "\n",
      " [[11 19  6  4 16  8  8]\n",
      "  [ 8 13  8 12  1  9 11]\n",
      "  [ 1 12 12  6 12 13 19]\n",
      "  [17  4  2 15 14 12 16]]]\n"
     ]
    }
   ],
   "source": [
    "array5 = np.random.randint(1,20,(2,4,7))\n",
    "print(array5)"
   ]
  },
  {
   "cell_type": "code",
   "execution_count": 169,
   "metadata": {},
   "outputs": [
    {
     "name": "stdout",
     "output_type": "stream",
     "text": [
      "[[[13 11]\n",
      "  [ 3 19]\n",
      "  [ 4  6]\n",
      "  [18  4]\n",
      "  [16 16]\n",
      "  [19  8]\n",
      "  [16  8]]\n",
      "\n",
      " [[ 5  8]\n",
      "  [ 2 13]\n",
      "  [ 9  8]\n",
      "  [ 7 12]\n",
      "  [ 5  1]\n",
      "  [ 1  9]\n",
      "  [ 8 11]]\n",
      "\n",
      " [[11  1]\n",
      "  [ 9 12]\n",
      "  [14 12]\n",
      "  [ 5  6]\n",
      "  [16 12]\n",
      "  [12 13]\n",
      "  [ 2 19]]\n",
      "\n",
      " [[ 4 17]\n",
      "  [ 7  4]\n",
      "  [19  2]\n",
      "  [ 5 15]\n",
      "  [ 7 14]\n",
      "  [18 12]\n",
      "  [ 6 16]]]\n"
     ]
    }
   ],
   "source": [
    "''' El método transpose cambia la forma del array pero tenemos que especificar que valor queremos cambiar de nº de filas(1), columnas(2) o matrices(0), \n",
    "intercambiandose entre ellas.'''\n",
    "array5_cambiado = np.transpose(array5,(1,2,0))\n",
    "print(array5_cambiado)"
   ]
  }
 ],
 "metadata": {
  "kernelspec": {
   "display_name": "base",
   "language": "python",
   "name": "python3"
  },
  "language_info": {
   "codemirror_mode": {
    "name": "ipython",
    "version": 3
   },
   "file_extension": ".py",
   "mimetype": "text/x-python",
   "name": "python",
   "nbconvert_exporter": "python",
   "pygments_lexer": "ipython3",
   "version": "3.9.7"
  },
  "orig_nbformat": 4
 },
 "nbformat": 4,
 "nbformat_minor": 2
}
